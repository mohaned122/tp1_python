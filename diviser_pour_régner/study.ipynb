{
 "cells": [
  {
   "cell_type": "code",
   "id": "initial_id",
   "metadata": {
    "collapsed": true,
    "ExecuteTime": {
     "end_time": "2024-10-26T07:45:17.323794Z",
     "start_time": "2024-10-26T07:45:17.317692Z"
    }
   },
   "source": [
    "myDect = dict(name='mohanned', age=22)\n",
    "print(myDect.keys())"
   ],
   "outputs": [
    {
     "name": "stdout",
     "output_type": "stream",
     "text": [
      "dict_keys(['name', 'age'])\n"
     ]
    }
   ],
   "execution_count": 6
  },
  {
   "metadata": {
    "ExecuteTime": {
     "end_time": "2024-10-26T07:45:13.750086Z",
     "start_time": "2024-10-26T07:45:13.745245Z"
    }
   },
   "cell_type": "code",
   "source": [
    "myList = [\"apple\",\"banana\",\"cherry\",\"watermelon\"]\n",
    "myList[0:2] = ['not_banana', \"not apple\"]\n",
    "myList.insert(0,\"banana\")\n",
    "myList.insert(3,\"jiji\")\n",
    "myList.extend((\"cherry\",\"watermelon\"))\n",
    "myList.clear()\n",
    "print(myList)"
   ],
   "id": "a4c1bd07f0c4669",
   "outputs": [
    {
     "name": "stdout",
     "output_type": "stream",
     "text": [
      "[]\n"
     ]
    }
   ],
   "execution_count": 5
  },
  {
   "metadata": {
    "ExecuteTime": {
     "end_time": "2024-10-26T08:07:35.907871Z",
     "start_time": "2024-10-26T08:07:35.899560Z"
    }
   },
   "cell_type": "code",
   "source": "True & False",
   "id": "c5775724860502a0",
   "outputs": [
    {
     "data": {
      "text/plain": [
       "False"
      ]
     },
     "execution_count": 7,
     "metadata": {},
     "output_type": "execute_result"
    }
   ],
   "execution_count": 7
  },
  {
   "metadata": {
    "ExecuteTime": {
     "end_time": "2024-10-26T08:08:42.719168Z",
     "start_time": "2024-10-26T08:08:42.712804Z"
    }
   },
   "cell_type": "code",
   "source": "True | False",
   "id": "7e26ad67112369e",
   "outputs": [
    {
     "data": {
      "text/plain": [
       "True"
      ]
     },
     "execution_count": 11,
     "metadata": {},
     "output_type": "execute_result"
    }
   ],
   "execution_count": 11
  },
  {
   "metadata": {
    "ExecuteTime": {
     "end_time": "2024-10-26T09:31:22.304144Z",
     "start_time": "2024-10-26T09:31:22.297971Z"
    }
   },
   "cell_type": "code",
   "source": [
    "#this is a comment 2\n",
    "print(__doc__)"
   ],
   "id": "d21b96ed1454380",
   "outputs": [
    {
     "name": "stdout",
     "output_type": "stream",
     "text": [
      "Automatically created module for IPython interactive environment\n"
     ]
    }
   ],
   "execution_count": 15
  },
  {
   "metadata": {},
   "cell_type": "code",
   "outputs": [],
   "execution_count": null,
   "source": "",
   "id": "af37a84d160e9092"
  }
 ],
 "metadata": {
  "kernelspec": {
   "display_name": "Python 3",
   "language": "python",
   "name": "python3"
  },
  "language_info": {
   "codemirror_mode": {
    "name": "ipython",
    "version": 2
   },
   "file_extension": ".py",
   "mimetype": "text/x-python",
   "name": "python",
   "nbconvert_exporter": "python",
   "pygments_lexer": "ipython2",
   "version": "2.7.6"
  }
 },
 "nbformat": 4,
 "nbformat_minor": 5
}
